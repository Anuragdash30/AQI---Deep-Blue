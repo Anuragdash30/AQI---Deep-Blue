{
 "cells": [
  {
   "cell_type": "code",
   "execution_count": 12,
   "metadata": {},
   "outputs": [
    {
     "ename": "AttributeError",
     "evalue": "'_csv.writer' object has no attribute 'writeheadher'",
     "output_type": "error",
     "traceback": [
      "\u001b[1;31m---------------------------------------------------------------------------\u001b[0m",
      "\u001b[1;31mAttributeError\u001b[0m                            Traceback (most recent call last)",
      "\u001b[1;32m<ipython-input-12-b8bfbeeaeac4>\u001b[0m in \u001b[0;36m<module>\u001b[1;34m\u001b[0m\n\u001b[0;32m      3\u001b[0m \u001b[1;32mwith\u001b[0m \u001b[0mopen\u001b[0m\u001b[1;33m(\u001b[0m\u001b[1;34m'dmankhud.csv'\u001b[0m\u001b[1;33m,\u001b[0m \u001b[1;34m'w'\u001b[0m\u001b[1;33m,\u001b[0m\u001b[0mnewline\u001b[0m\u001b[1;33m=\u001b[0m\u001b[1;34m''\u001b[0m\u001b[1;33m)\u001b[0m \u001b[1;32mas\u001b[0m \u001b[0mf\u001b[0m\u001b[1;33m:\u001b[0m\u001b[1;33m\u001b[0m\u001b[1;33m\u001b[0m\u001b[0m\n\u001b[0;32m      4\u001b[0m     \u001b[0mfilewriter\u001b[0m \u001b[1;33m=\u001b[0m \u001b[0mcsv\u001b[0m\u001b[1;33m.\u001b[0m\u001b[0mwriter\u001b[0m\u001b[1;33m(\u001b[0m\u001b[0mf\u001b[0m\u001b[1;33m)\u001b[0m\u001b[1;33m\u001b[0m\u001b[1;33m\u001b[0m\u001b[0m\n\u001b[1;32m----> 5\u001b[1;33m     \u001b[0mfilewriter\u001b[0m\u001b[1;33m.\u001b[0m\u001b[0mwriteheadher\u001b[0m\u001b[1;33m(\u001b[0m\u001b[1;33m[\u001b[0m\u001b[1;34m'Year'\u001b[0m\u001b[1;33m,\u001b[0m \u001b[1;34m'Population'\u001b[0m\u001b[1;33m,\u001b[0m\u001b[1;34m'Male'\u001b[0m\u001b[1;33m,\u001b[0m\u001b[1;34m'Female'\u001b[0m\u001b[1;33m,\u001b[0m\u001b[1;34m'Area'\u001b[0m\u001b[1;33m,\u001b[0m\u001b[1;34m'Family_size'\u001b[0m\u001b[1;33m,\u001b[0m\u001b[1;34m'Avg_Literacy'\u001b[0m\u001b[1;33m,\u001b[0m\u001b[1;34m'Muslim'\u001b[0m\u001b[1;33m,\u001b[0m\u001b[1;34m'Hindu'\u001b[0m\u001b[1;33m,\u001b[0m\u001b[1;34m'Baudha'\u001b[0m\u001b[1;33m,\u001b[0m\u001b[1;34m'Hindi'\u001b[0m\u001b[1;33m,\u001b[0m\u001b[1;34m'Marathi'\u001b[0m\u001b[1;33m,\u001b[0m\u001b[1;34m'Bhjopuri'\u001b[0m\u001b[1;33m,\u001b[0m\u001b[1;34m'Urdu'\u001b[0m\u001b[1;33m,\u001b[0m\u001b[1;34m'Avg_income'\u001b[0m\u001b[1;33m,\u001b[0m\u001b[1;34m'Casual_labour'\u001b[0m\u001b[1;33m,\u001b[0m\u001b[1;34m'Business'\u001b[0m\u001b[1;33m,\u001b[0m\u001b[1;34m'Employeed'\u001b[0m\u001b[1;33m,\u001b[0m\u001b[1;34m'Rag_picker'\u001b[0m\u001b[1;33m]\u001b[0m\u001b[1;33m)\u001b[0m\u001b[1;33m\u001b[0m\u001b[1;33m\u001b[0m\u001b[0m\n\u001b[0m",
      "\u001b[1;31mAttributeError\u001b[0m: '_csv.writer' object has no attribute 'writeheadher'"
     ]
    }
   ],
   "source": [
    "import csv\n",
    "\n",
    "with open('dmankhud.csv', 'w',newline='') as f:\n",
    "    filewriter = csv.writer(f)\n",
    "    fieldnames =['Year', 'Population','Male','Female','Area','Family_size','Avg_Literacy','Muslim','Hindu','Baudha','Hindi','Marathi','Bhjopuri','Urdu','Avg_income','Casual_labour','Business','Employeed','Rag_picker']"
   ]
  },
  {
   "cell_type": "code",
   "execution_count": 31,
   "metadata": {},
   "outputs": [],
   "source": [
    "with open('dmahul.csv', 'w',newline='') as f:\n",
    "    fieldnames =['Year', 'Population','Male','Female','Area','Family_size','Avg_Literacy','Muslim','Hindu','Baudha','Hindi','Marathi','Bhjopuri','Urdu','Avg_income','Casual_labour','Business','Employeed','Rag_picker']\n",
    "    filewriter = csv.DictWriter(f,fieldnames=fieldnames)\n",
    "    filewriter.writeheader()\n",
    "    j=2010\n",
    "    pop=18852\n",
    "    area=5.57\n",
    "    rate=-0.5\n",
    "    ratem=54.5\n",
    "    ratef=45.4\n",
    "    \n",
    "    for i in range(1,12):\n",
    "        if i==1:\n",
    "            popt=pop*area\n",
    "        else:\n",
    "            popt=popt+(popt*rate)/100\n",
    "        male=popt*(ratem/100)\n",
    "        j=j+1\n",
    "        female=popt*(ratef/100)\n",
    "        mu=popt*(87.1/100)\n",
    "        hi=popt*(10.4/100)\n",
    "        ba=popt*(1.7/100)\n",
    "        filewriter.writerow({'Year' : j, 'Population' : int(popt) ,'Male' :int(male),'Female':int(female),'Area':area,'Family_size':5.55,'Avg_Literacy':73.6,'Muslim':int(mu),'Hindu':int(hi),'Baudha':int(ba),'Hindi':int(popt*(78/100)),'Marathi':int(popt*(3/100)),'Bhjopuri': int(popt*(10/100)),'Urdu':int(popt*(4/100)),'Avg_income': 9473,'Casual_labour':int(popt*(60.3/100)),'Business':int(popt*(6.9/100)),'Employeed':int(popt*(8.7/100)),'Rag_picker':int(popt*(2.7/100))})\n",
    "        \n",
    "    "
   ]
  },
  {
   "cell_type": "code",
   "execution_count": null,
   "metadata": {},
   "outputs": [],
   "source": []
  }
 ],
 "metadata": {
  "kernelspec": {
   "display_name": "Python 3",
   "language": "python",
   "name": "python3"
  },
  "language_info": {
   "codemirror_mode": {
    "name": "ipython",
    "version": 3
   },
   "file_extension": ".py",
   "mimetype": "text/x-python",
   "name": "python",
   "nbconvert_exporter": "python",
   "pygments_lexer": "ipython3",
   "version": "3.7.6"
  }
 },
 "nbformat": 4,
 "nbformat_minor": 4
}
